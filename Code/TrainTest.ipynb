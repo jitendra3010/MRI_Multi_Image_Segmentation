{
 "cells": [
  {
   "cell_type": "code",
   "execution_count": 1,
   "metadata": {},
   "outputs": [],
   "source": [
    "import os\n",
    "from PIL import Image\n",
    "import shutil\n",
    "from sklearn.model_selection import train_test_split"
   ]
  },
  {
   "cell_type": "markdown",
   "metadata": {},
   "source": [
    "### Code file to split the data to train/Test/Validaiton"
   ]
  },
  {
   "cell_type": "code",
   "execution_count": 5,
   "metadata": {},
   "outputs": [],
   "source": [
    "# set the project patch\n",
    "my_path = \"/Users/jiten/Masters/WorkPlace/\"\n",
    "folder_path = \"/Users/jiten/Masters/WorkPlace/MRI_MULTI_IMAGE_SEGMENTATION/\"\n",
    "# csv_path_SAGIR = os.path.join(folder_path,'boundingInfo','SAGIR bounding boxes.csv')\n",
    "image_dir = os.path.join(my_path, 'MRI_Image','06192023 SFI renamed')\n",
    "\n",
    "source_folder_dict = {}\n",
    "source_folder_ed_SAGIR = os.path.join(folder_path, 'SAGIR_edem_Images')\n",
    "source_folder_frac_SAGIR = os.path.join(folder_path, 'SAGIR_frac_Images')\n",
    "source_folder_dict['EDEMA'] = source_folder_ed_SAGIR\n",
    "source_folder_dict['FRAC'] = source_folder_frac_SAGIR\n",
    "\n",
    "\n",
    "train_dir_dict = {}\n",
    "test_dir_dict = {}\n",
    "val_dir_dict = {}\n",
    "\n",
    "# #val_dir = os.path.join(folder_path, \"validate\")\n",
    "# train_dir_SAGT1 = os.path.join(folder_path, \"train_data_SAGT1\")\n",
    "# test_dir_SAGT1 = os.path.join(folder_path, \"test_data_SAGT1\")\n",
    "# val_dir_SAGT1 = os.path.join(folder_path, \"val_data_SAGT1\")\n",
    "\n",
    "train_dir_edema_SAGIR = os.path.join(folder_path, \"train_data_edema_SAGIR\")\n",
    "test_dir_edema_SAGIR = os.path.join(folder_path, \"test_data_edema_SAGIR\")\n",
    "val_dir_edema_SAGIR = os.path.join(folder_path, \"val_data_edema_SAGIR\")\n",
    "\n",
    "train_dir_frac_SAGIR = os.path.join(folder_path, \"train_data_frac_SAGIR\")\n",
    "test_dir_frac_SAGIR = os.path.join(folder_path, \"test_data_frac_SAGIR\")\n",
    "val_dir_frac_SAGIR = os.path.join(folder_path, \"val_data_frac_SAGIR\")\n",
    "\n",
    "\n",
    "\n",
    "# train_dir_dict['SAGT1'] = train_dir_SAGT1\n",
    "train_dir_dict['EDEMA'] = train_dir_edema_SAGIR\n",
    "train_dir_dict['FRAC'] = train_dir_frac_SAGIR\n",
    "\n",
    "# test_dir_dict['SAGT1'] = test_dir_SAGT1\n",
    "test_dir_dict['EDEMA'] = test_dir_edema_SAGIR\n",
    "test_dir_dict['FRAC'] = test_dir_frac_SAGIR\n",
    "\n",
    "# val_dir_dict['SAGT1'] = val_dir_SAGT1\n",
    "val_dir_dict['EDEMA'] = val_dir_edema_SAGIR\n",
    "val_dir_dict['FRAC'] = val_dir_frac_SAGIR"
   ]
  },
  {
   "cell_type": "code",
   "execution_count": 3,
   "metadata": {},
   "outputs": [],
   "source": [
    "def splitTrainTest(imgType):\n",
    "    \"\"\"\n",
    "    Function to split data to train and test folder\n",
    "    \"\"\"\n",
    "\n",
    "    print(\"Start of Spit Train/Test\")\n",
    "    counter_trn = 0\n",
    "    counter_tst = 0\n",
    "    counter_val = 0\n",
    "    \n",
    "\n",
    "    # get the source folder name\n",
    "    source_folder = source_folder_dict[imgType]\n",
    "\n",
    "    # get the train and test folder\n",
    "    train_dir = train_dir_dict[imgType]\n",
    "    test_dir = test_dir_dict[imgType]\n",
    "    val_dir = val_dir_dict[imgType]\n",
    "\n",
    "    # Generate a list of strings from P001 to P096\n",
    "    patient_list = [f'P{str(i).zfill(3)}' for i in range(1, 97)]\n",
    "\n",
    "    # Split the data into training, testing, and validation sets\n",
    "    train_ptn, test_ptn = train_test_split(patient_list, test_size=0.2, random_state=3010)\n",
    "    train_ptn, val_ptn = train_test_split(train_ptn, test_size=0.2, random_state=3010)\n",
    "\n",
    "\n",
    "\n",
    "\n",
    "    # Get the list of all files in the original folder\n",
    "    all_files = os.listdir(source_folder)\n",
    "    \n",
    "    # Move files to the respective folders\n",
    "    for file in all_files:\n",
    "        if file[:4] in train_ptn:\n",
    "            source_path = os.path.join(source_folder, file)\n",
    "            destination_path = os.path.join(train_dir, file)\n",
    "            shutil.copy(source_path, destination_path)\n",
    "            counter_trn += 1\n",
    "        elif file[:4] in test_ptn:\n",
    "            source_path = os.path.join(source_folder, file)\n",
    "            destination_path = os.path.join(test_dir, file)\n",
    "            shutil.copy(source_path, destination_path)\n",
    "            counter_tst +=1\n",
    "        elif file[:4] in val_ptn:\n",
    "            source_path = os.path.join(source_folder, file)\n",
    "            destination_path = os.path.join(val_dir, file)\n",
    "            shutil.copy(source_path, destination_path)\n",
    "            counter_val +=1\n",
    "\n",
    "    print(f\"Total train files copied :: {counter_trn}\")\n",
    "    print(f\"Total test files copied :: {counter_tst}\")\n",
    "    print(f\"Total validaiton files copied :: {counter_val}\")\n"
   ]
  },
  {
   "cell_type": "code",
   "execution_count": 6,
   "metadata": {},
   "outputs": [
    {
     "name": "stdout",
     "output_type": "stream",
     "text": [
      "Start of Spit Train/Test\n",
      "Total train files copied :: 559\n",
      "Total test files copied :: 185\n",
      "Total validaiton files copied :: 116\n"
     ]
    }
   ],
   "source": [
    "# split the edema data\n",
    "splitTrainTest('EDEMA')"
   ]
  },
  {
   "cell_type": "code",
   "execution_count": 7,
   "metadata": {},
   "outputs": [
    {
     "name": "stdout",
     "output_type": "stream",
     "text": [
      "Start of Spit Train/Test\n",
      "Total train files copied :: 189\n",
      "Total test files copied :: 50\n",
      "Total validaiton files copied :: 44\n"
     ]
    }
   ],
   "source": [
    "# split the fracture data\n",
    "splitTrainTest('FRAC')"
   ]
  }
 ],
 "metadata": {
  "kernelspec": {
   "display_name": "project",
   "language": "python",
   "name": "python3"
  },
  "language_info": {
   "codemirror_mode": {
    "name": "ipython",
    "version": 3
   },
   "file_extension": ".py",
   "mimetype": "text/x-python",
   "name": "python",
   "nbconvert_exporter": "python",
   "pygments_lexer": "ipython3",
   "version": "3.11.9"
  }
 },
 "nbformat": 4,
 "nbformat_minor": 2
}
